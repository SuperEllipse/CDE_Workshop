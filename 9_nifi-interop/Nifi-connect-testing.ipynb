{
 "cells": [
  {
   "cell_type": "code",
   "execution_count": 7,
   "metadata": {},
   "outputs": [],
   "source": [
    "import requests\n",
    "from requests.auth import HTTPBasicAuth\n",
    "from datetime import datetime, timedelta\n",
    "from base64 import b64encode \n",
    "import json\n",
    "import time\n",
    "\n",
    "url =  \"https://se-indonesia-cfm1-management0.se-indon.a465-9q4k.cloudera.site/se-indonesia-cfm1/cdp-proxy-api/nifi-app/nifi-api/controller/cluster\"  # Replace with your actual API endpoint\n",
    "user_id = \"your-cdp-login\"\n",
    "password = \"your-cdp-password\"\n"
   ]
  },
  {
   "cell_type": "code",
   "execution_count": 10,
   "metadata": {},
   "outputs": [],
   "source": [
    "\n",
    "\n",
    "def get_http_response(url, user_id, password):\n",
    "    basic = HTTPBasicAuth(user_id, password)\n",
    "    response = requests.get(url, auth=basic, verify=False)\n",
    "    print(\"returned :\" , response.text)\n",
    "    response.raise_for_status()  # Raise an exception for error responses\n",
    "\n",
    "    return response.json() \n",
    "\n",
    "def make_put_request(url, data, username, password, content_type=\"application/json\"):\n",
    "    \"\"\"\n",
    "    Makes a PUT request to the specified URL with basic authentication.\n",
    "\n",
    "    Args:\n",
    "        url (str): The URL of the resource to update.\n",
    "        data (dict or str): The data to send in the request body.\n",
    "            If a dictionary, it will be converted to JSON.\n",
    "        username (str): The username for basic authentication.\n",
    "        password (str): The password for basic authentication.\n",
    "        content_type (str, optional): The content type of the request body.\n",
    "            Defaults to \"application/json\".\n",
    "\n",
    "    Returns:\n",
    "        requests.Response: The response object containing the server's response.\n",
    "    \"\"\"\n",
    "\n",
    "    if isinstance(data, dict):\n",
    "        data = json.dumps(data)  # Convert dictionary to JSON if necessary\n",
    "\n",
    "    # Combine username and password for basic authentication\n",
    "    auth_string = b64encode(f\"{username}:{password}\".encode(\"utf-8\")).decode(\"ascii\")\n",
    "    headers = {\"Authorization\": f\"Basic {auth_string}\", \"Content-Type\": content_type}\n",
    "\n",
    "    try:\n",
    "        response = requests.put(url, headers=headers, data=data)\n",
    "        response.raise_for_status()  # Raise an exception for non-2xx status codes\n",
    "        return response\n",
    "    except requests.exceptions.RequestException as e:\n",
    "        print(f\"Error making PUT request: {e}\")\n",
    "        return None\n",
    "\n",
    "def get_nifi_processor_clientid_and_version(url, user_id, password):\n",
    "    data =get_http_response(url, user_id, password) \n",
    "\n",
    "    print(data[\"revision\"]) # {'clientId': 'c74a3773-cee5-15db-6b8c-7c5873a52dd7', 'version': 16}\n",
    "    return data[\"revision\"][\"clientId\"], data[\"revision\"][\"version\"]\n",
    "\n",
    "def get_primary_nodeId_and_address(url, user_id, password) :\n",
    "    data =get_http_response(url, user_id, password) \n",
    "    primary_node = None\n",
    "\n",
    "    for node in data[\"cluster\"][\"nodes\"]:\n",
    "        print(node)\n",
    "        if \"Primary Node\" in node[\"roles\"] : \n",
    "            print(\"Primary:\", node)\n",
    "            primary_node = node\n",
    "            break\n",
    "        \n",
    "    if primary_node:\n",
    "    # When Deploying to Airflow we need to uncomment this \n",
    "    #     kwargs['ti'].xcom_push(key='primary_node_id', value=primary_node['nodeId'])\n",
    "    #     kwargs['ti'].xcom_push(key='primary_node_address', value=primary_node['address'])\n",
    "        # COMMENT these 3 lines for Airflow and uncomment the earlier lines for Airflow\n",
    "        print( \"Nodeid : \", primary_node['nodeId'])\n",
    "        print( \"Nodeaddress : \", primary_node['address'])    \n",
    "        return primary_node['nodeId'], primary_node['address']\n",
    "    else:\n",
    "        raise Exception(\"Primary node not found in API response.\")\n",
    "    \n",
    "def fetch_state_value(url, state_property, primary_nodeId,user_id, password) :\n",
    "# let us call this first time for the flow \n",
    "    data =get_http_response(url, user_id, password)     \n",
    "    print(data[\"componentState\"][\"localState\"][\"state\"])\n",
    "\n",
    "    processor_states = data[\"componentState\"][\"localState\"][\"state\"]\n",
    "    for state in processor_states:\n",
    "        if state[\"clusterNodeId\"] == primary_nodeId and state[\"key\"] == state_property :\n",
    "            date_str=state[\"value\"]\n",
    "            print(date_str)\n",
    "            converted_date=datetime.strptime(date_str, \"%a %b %d %H:%M:%S UTC %Y\")\n",
    "            print(converted_date)\n",
    "    return converted_date"
   ]
  },
  {
   "cell_type": "code",
   "execution_count": 11,
   "metadata": {},
   "outputs": [
    {
     "name": "stderr",
     "output_type": "stream",
     "text": [
      "/Users/vrajagopalan/Work/sandbox/CDE/worldbank/.venv/lib/python3.8/site-packages/urllib3/connectionpool.py:1064: InsecureRequestWarning: Unverified HTTPS request is being made to host 'se-indonesia-cfm1-management0.se-indon.a465-9q4k.cloudera.site'. Adding certificate verification is strongly advised. See: https://urllib3.readthedocs.io/en/1.26.x/advanced-usage.html#ssl-warnings\n",
      "  warnings.warn(\n"
     ]
    },
    {
     "name": "stdout",
     "output_type": "stream",
     "text": [
      "returned : {\"cluster\":{\"nodes\":[{\"nodeId\":\"8313ee9d-51af-4abe-bcb6-406d62a3f3e7\",\"address\":\"se-indonesia-cfm1-nifi0.se-indon.a465-9q4k.cloudera.site\",\"apiPort\":8443,\"status\":\"CONNECTED\",\"heartbeat\":\"10/03/2024 01:20:39 UTC\",\"roles\":[\"Cluster Coordinator\"],\"activeThreadCount\":0,\"queued\":\"1 / 0 bytes\",\"events\":[{\"timestamp\":\"10/02/2024 10:24:12 UTC\",\"category\":\"INFO\",\"message\":\"Received first heartbeat from connecting node. Node connected.\"},{\"timestamp\":\"10/02/2024 10:24:09 UTC\",\"category\":\"INFO\",\"message\":\"Connection requested from existing node. Setting status to connecting.\"}],\"nodeStartTime\":\"10/02/2024 10:23:32 UTC\"},{\"nodeId\":\"dd1d8c30-5469-4880-b83b-2e3ae6bfd8d3\",\"address\":\"se-indonesia-cfm1-nifi2.se-indon.a465-9q4k.cloudera.site\",\"apiPort\":8443,\"status\":\"CONNECTED\",\"heartbeat\":\"10/03/2024 01:20:39 UTC\",\"roles\":[],\"activeThreadCount\":0,\"queued\":\"1 / 0 bytes\",\"events\":[{\"timestamp\":\"10/02/2024 10:24:12 UTC\",\"category\":\"INFO\",\"message\":\"Received first heartbeat from connecting node. Node connected.\"},{\"timestamp\":\"10/02/2024 10:24:08 UTC\",\"category\":\"INFO\",\"message\":\"Connection requested from existing node. Setting status to connecting.\"}],\"nodeStartTime\":\"10/02/2024 10:23:38 UTC\"},{\"nodeId\":\"4734738b-773a-4419-8473-22b2f69ab243\",\"address\":\"se-indonesia-cfm1-nifi1.se-indon.a465-9q4k.cloudera.site\",\"apiPort\":8443,\"status\":\"CONNECTED\",\"heartbeat\":\"10/03/2024 01:20:39 UTC\",\"roles\":[\"Primary Node\"],\"activeThreadCount\":0,\"queued\":\"2 / 0 bytes\",\"events\":[{\"timestamp\":\"10/02/2024 10:24:07 UTC\",\"category\":\"INFO\",\"message\":\"Received first heartbeat from connecting node. Node connected.\"},{\"timestamp\":\"10/02/2024 10:24:04 UTC\",\"category\":\"INFO\",\"message\":\"Connection requested from existing node. Setting status to connecting.\"}],\"nodeStartTime\":\"10/02/2024 10:23:35 UTC\"}],\"generated\":\"01:20:43 UTC\"}}\n",
      "{'nodeId': '8313ee9d-51af-4abe-bcb6-406d62a3f3e7', 'address': 'se-indonesia-cfm1-nifi0.se-indon.a465-9q4k.cloudera.site', 'apiPort': 8443, 'status': 'CONNECTED', 'heartbeat': '10/03/2024 01:20:39 UTC', 'roles': ['Cluster Coordinator'], 'activeThreadCount': 0, 'queued': '1 / 0 bytes', 'events': [{'timestamp': '10/02/2024 10:24:12 UTC', 'category': 'INFO', 'message': 'Received first heartbeat from connecting node. Node connected.'}, {'timestamp': '10/02/2024 10:24:09 UTC', 'category': 'INFO', 'message': 'Connection requested from existing node. Setting status to connecting.'}], 'nodeStartTime': '10/02/2024 10:23:32 UTC'}\n",
      "{'nodeId': 'dd1d8c30-5469-4880-b83b-2e3ae6bfd8d3', 'address': 'se-indonesia-cfm1-nifi2.se-indon.a465-9q4k.cloudera.site', 'apiPort': 8443, 'status': 'CONNECTED', 'heartbeat': '10/03/2024 01:20:39 UTC', 'roles': [], 'activeThreadCount': 0, 'queued': '1 / 0 bytes', 'events': [{'timestamp': '10/02/2024 10:24:12 UTC', 'category': 'INFO', 'message': 'Received first heartbeat from connecting node. Node connected.'}, {'timestamp': '10/02/2024 10:24:08 UTC', 'category': 'INFO', 'message': 'Connection requested from existing node. Setting status to connecting.'}], 'nodeStartTime': '10/02/2024 10:23:38 UTC'}\n",
      "{'nodeId': '4734738b-773a-4419-8473-22b2f69ab243', 'address': 'se-indonesia-cfm1-nifi1.se-indon.a465-9q4k.cloudera.site', 'apiPort': 8443, 'status': 'CONNECTED', 'heartbeat': '10/03/2024 01:20:39 UTC', 'roles': ['Primary Node'], 'activeThreadCount': 0, 'queued': '2 / 0 bytes', 'events': [{'timestamp': '10/02/2024 10:24:07 UTC', 'category': 'INFO', 'message': 'Received first heartbeat from connecting node. Node connected.'}, {'timestamp': '10/02/2024 10:24:04 UTC', 'category': 'INFO', 'message': 'Connection requested from existing node. Setting status to connecting.'}], 'nodeStartTime': '10/02/2024 10:23:35 UTC'}\n",
      "Primary: {'nodeId': '4734738b-773a-4419-8473-22b2f69ab243', 'address': 'se-indonesia-cfm1-nifi1.se-indon.a465-9q4k.cloudera.site', 'apiPort': 8443, 'status': 'CONNECTED', 'heartbeat': '10/03/2024 01:20:39 UTC', 'roles': ['Primary Node'], 'activeThreadCount': 0, 'queued': '2 / 0 bytes', 'events': [{'timestamp': '10/02/2024 10:24:07 UTC', 'category': 'INFO', 'message': 'Received first heartbeat from connecting node. Node connected.'}, {'timestamp': '10/02/2024 10:24:04 UTC', 'category': 'INFO', 'message': 'Connection requested from existing node. Setting status to connecting.'}], 'nodeStartTime': '10/02/2024 10:23:35 UTC'}\n",
      "Nodeid :  4734738b-773a-4419-8473-22b2f69ab243\n",
      "Nodeaddress :  se-indonesia-cfm1-nifi1.se-indon.a465-9q4k.cloudera.site\n",
      "4734738b-773a-4419-8473-22b2f69ab243\n"
     ]
    },
    {
     "name": "stderr",
     "output_type": "stream",
     "text": [
      "/Users/vrajagopalan/Work/sandbox/CDE/worldbank/.venv/lib/python3.8/site-packages/urllib3/connectionpool.py:1064: InsecureRequestWarning: Unverified HTTPS request is being made to host 'se-indonesia-cfm1-management0.se-indon.a465-9q4k.cloudera.site'. Adding certificate verification is strongly advised. See: https://urllib3.readthedocs.io/en/1.26.x/advanced-usage.html#ssl-warnings\n",
      "  warnings.warn(\n"
     ]
    },
    {
     "name": "stdout",
     "output_type": "stream",
     "text": [
      "returned : {\"revision\":{\"clientId\":\"4fe17ba6-0192-1000-db91-d3c5a443da11\",\"version\":1},\"id\":\"effa3ae8-49b5-1782-8275-e030ee5088dc\",\"uri\":\"https://se-indonesia-cfm1-management0.se-indon.a465-9q4k.cloudera.site:443/se-indonesia-cfm1/cdp-proxy-api/nifi-app/nifi-api/processors/effa3ae8-49b5-1782-8275-e030ee5088dc\",\"position\":{\"x\":1120.0,\"y\":0.0},\"permissions\":{\"canRead\":true,\"canWrite\":true},\"bulletins\":[],\"component\":{\"id\":\"effa3ae8-49b5-1782-8275-e030ee5088dc\",\"versionedComponentId\":\"e3460adc-c183-3a8e-b33e-496782f0fa0e\",\"parentGroupId\":\"e541fcda-ec63-33a8-a7b9-795848add787\",\"position\":{\"x\":1120.0,\"y\":0.0},\"name\":\"WorldBank Trigger\",\"type\":\"org.apache.nifi.processors.standard.GenerateFlowFile\",\"bundle\":{\"group\":\"org.apache.nifi\",\"artifact\":\"nifi-standard-nar\",\"version\":\"1.25.0.2.2.8.300-34\"},\"state\":\"STOPPED\",\"style\":{},\"relationships\":[{\"name\":\"success\",\"description\":\"\",\"autoTerminate\":false,\"retry\":false}],\"supportsParallelProcessing\":true,\"supportsEventDriven\":false,\"supportsBatching\":true,\"supportsSensitiveDynamicProperties\":false,\"persistsState\":false,\"restricted\":false,\"deprecated\":false,\"executionNodeRestricted\":false,\"multipleVersionsAvailable\":false,\"inputRequirement\":\"INPUT_FORBIDDEN\",\"config\":{\"properties\":{\"File Size\":\"0B\",\"Batch Size\":\"1\",\"Data Format\":\"Text\",\"Unique FlowFiles\":\"false\",\"generate-ff-custom-text\":null,\"character-set\":\"UTF-8\",\"mime-type\":null,\"req_type\":\"worldbank\"},\"descriptors\":{\"File Size\":{\"name\":\"File Size\",\"displayName\":\"File Size\",\"description\":\"The size of the file that will be used\",\"defaultValue\":\"0B\",\"required\":true,\"sensitive\":false,\"dynamic\":false,\"supportsEl\":false,\"expressionLanguageScope\":\"Not Supported\",\"dependencies\":[]},\"Batch Size\":{\"name\":\"Batch Size\",\"displayName\":\"Batch Size\",\"description\":\"The number of FlowFiles to be transferred in each invocation\",\"defaultValue\":\"1\",\"required\":true,\"sensitive\":false,\"dynamic\":false,\"supportsEl\":false,\"expressionLanguageScope\":\"Not Supported\",\"dependencies\":[]},\"Data Format\":{\"name\":\"Data Format\",\"displayName\":\"Data Format\",\"description\":\"Specifies whether the data should be Text or Binary\",\"defaultValue\":\"Text\",\"allowableValues\":[{\"allowableValue\":{\"displayName\":\"Binary\",\"value\":\"Binary\"},\"canRead\":true},{\"allowableValue\":{\"displayName\":\"Text\",\"value\":\"Text\"},\"canRead\":true}],\"required\":true,\"sensitive\":false,\"dynamic\":false,\"supportsEl\":false,\"expressionLanguageScope\":\"Not Supported\",\"dependencies\":[]},\"Unique FlowFiles\":{\"name\":\"Unique FlowFiles\",\"displayName\":\"Unique FlowFiles\",\"description\":\"If true, each FlowFile that is generated will be unique. If false, a random value will be generated and all FlowFiles will get the same content but this offers much higher throughput\",\"defaultValue\":\"false\",\"allowableValues\":[{\"allowableValue\":{\"displayName\":\"true\",\"value\":\"true\"},\"canRead\":true},{\"allowableValue\":{\"displayName\":\"false\",\"value\":\"false\"},\"canRead\":true}],\"required\":true,\"sensitive\":false,\"dynamic\":false,\"supportsEl\":false,\"expressionLanguageScope\":\"Not Supported\",\"dependencies\":[]},\"generate-ff-custom-text\":{\"name\":\"generate-ff-custom-text\",\"displayName\":\"Custom Text\",\"description\":\"If Data Format is text and if Unique FlowFiles is false, then this custom text will be used as content of the generated FlowFiles and the File Size will be ignored. Finally, if Expression Language is used, evaluation will be performed only once per batch of generated FlowFiles\",\"required\":false,\"sensitive\":false,\"dynamic\":false,\"supportsEl\":true,\"expressionLanguageScope\":\"Variable Registry Only\",\"dependencies\":[]},\"character-set\":{\"name\":\"character-set\",\"displayName\":\"Character Set\",\"description\":\"Specifies the character set to use when writing the bytes of Custom Text to a flow file.\",\"defaultValue\":\"UTF-8\",\"required\":true,\"sensitive\":false,\"dynamic\":false,\"supportsEl\":false,\"expressionLanguageScope\":\"Not Supported\",\"dependencies\":[]},\"mime-type\":{\"name\":\"mime-type\",\"displayName\":\"Mime Type\",\"description\":\"Specifies the value to set for the \\\"mime.type\\\" attribute.\",\"required\":false,\"sensitive\":false,\"dynamic\":false,\"supportsEl\":false,\"expressionLanguageScope\":\"Not Supported\",\"dependencies\":[]},\"req_type\":{\"name\":\"req_type\",\"displayName\":\"req_type\",\"description\":\"\",\"required\":false,\"sensitive\":false,\"dynamic\":true,\"supportsEl\":true,\"expressionLanguageScope\":\"Variable Registry Only\",\"dependencies\":[]}},\"schedulingPeriod\":\"900 min\",\"schedulingStrategy\":\"TIMER_DRIVEN\",\"executionNode\":\"PRIMARY\",\"penaltyDuration\":\"30 sec\",\"yieldDuration\":\"1 sec\",\"bulletinLevel\":\"WARN\",\"runDurationMillis\":0,\"concurrentlySchedulableTaskCount\":1,\"comments\":\"\",\"lossTolerant\":false,\"defaultConcurrentTasks\":{\"TIMER_DRIVEN\":\"1\",\"EVENT_DRIVEN\":\"0\",\"CRON_DRIVEN\":\"1\"},\"defaultSchedulingPeriod\":{\"TIMER_DRIVEN\":\"0 sec\",\"CRON_DRIVEN\":\"* * * * * ?\"},\"retryCount\":10,\"retriedRelationships\":[],\"backoffMechanism\":\"PENALIZE_FLOWFILE\",\"maxBackoffPeriod\":\"10 mins\"},\"validationErrors\":[],\"validationStatus\":\"VALID\",\"extensionMissing\":false},\"inputRequirement\":\"INPUT_FORBIDDEN\",\"status\":{\"groupId\":\"e541fcda-ec63-33a8-a7b9-795848add787\",\"id\":\"effa3ae8-49b5-1782-8275-e030ee5088dc\",\"name\":\"WorldBank Trigger\",\"runStatus\":\"Stopped\",\"statsLastRefreshed\":\"01:20:45 UTC\",\"aggregateSnapshot\":{\"id\":\"effa3ae8-49b5-1782-8275-e030ee5088dc\",\"groupId\":\"e541fcda-ec63-33a8-a7b9-795848add787\",\"name\":\"WorldBank Trigger\",\"type\":\"GenerateFlowFile\",\"runStatus\":\"Stopped\",\"executionNode\":\"PRIMARY\",\"bytesRead\":0,\"bytesWritten\":0,\"read\":\"0 bytes\",\"written\":\"0 bytes\",\"flowFilesIn\":0,\"bytesIn\":0,\"input\":\"0 (0 bytes)\",\"flowFilesOut\":1,\"bytesOut\":0,\"output\":\"1 (0 bytes)\",\"taskCount\":1,\"tasksDurationNanos\":1285917,\"tasks\":\"1\",\"tasksDuration\":\"00:00:00.001\",\"activeThreadCount\":0,\"terminatedThreadCount\":0}},\"operatePermissions\":{\"canRead\":true,\"canWrite\":true}}\n",
      "{'clientId': '4fe17ba6-0192-1000-db91-d3c5a443da11', 'version': 1}\n",
      "ClientId: 4fe17ba6-0192-1000-db91-d3c5a443da11  \n",
      " version: 1\n",
      "Request successful! Response status code: 200\n",
      "{\"revision\":{\"clientId\":\"4fe17ba6-0192-1000-db91-d3c5a443da11\",\"version\":2,\"lastModifier\":\"vishrajagopalan\"},\"id\":\"effa3ae8-49b5-1782-8275-e030ee5088dc\",\"uri\":\"https://se-indonesia-cfm1-management0.se-indon.a465-9q4k.cloudera.site:443/se-indonesia-cfm1/cdp-proxy-api/nifi-app/nifi-api/processors/effa3ae8-49b5-1782-8275-e030ee5088dc\",\"position\":{\"x\":1120.0,\"y\":0.0},\"permissions\":{\"canRead\":true,\"canWrite\":true},\"bulletins\":[],\"component\":{\"id\":\"effa3ae8-49b5-1782-8275-e030ee5088dc\",\"versionedComponentId\":\"e3460adc-c183-3a8e-b33e-496782f0fa0e\",\"parentGroupId\":\"e541fcda-ec63-33a8-a7b9-795848add787\",\"position\":{\"x\":1120.0,\"y\":0.0},\"name\":\"WorldBank Trigger\",\"type\":\"org.apache.nifi.processors.standard.GenerateFlowFile\",\"bundle\":{\"group\":\"org.apache.nifi\",\"artifact\":\"nifi-standard-nar\",\"version\":\"1.25.0.2.2.8.300-34\"},\"state\":\"RUNNING\",\"style\":{},\"relationships\":[{\"name\":\"success\",\"description\":\"\",\"autoTerminate\":false,\"retry\":false}],\"supportsParallelProcessing\":true,\"supportsEventDriven\":false,\"supportsBatching\":true,\"supportsSensitiveDynamicProperties\":false,\"persistsState\":false,\"restricted\":false,\"deprecated\":false,\"executionNodeRestricted\":false,\"multipleVersionsAvailable\":false,\"inputRequirement\":\"INPUT_FORBIDDEN\",\"config\":{\"properties\":{\"File Size\":\"0B\",\"Batch Size\":\"1\",\"Data Format\":\"Text\",\"Unique FlowFiles\":\"false\",\"generate-ff-custom-text\":null,\"character-set\":\"UTF-8\",\"mime-type\":null,\"req_type\":\"worldbank\"},\"descriptors\":{\"File Size\":{\"name\":\"File Size\",\"displayName\":\"File Size\",\"description\":\"The size of the file that will be used\",\"defaultValue\":\"0B\",\"required\":true,\"sensitive\":false,\"dynamic\":false,\"supportsEl\":false,\"expressionLanguageScope\":\"Not Supported\",\"dependencies\":[]},\"Batch Size\":{\"name\":\"Batch Size\",\"displayName\":\"Batch Size\",\"description\":\"The number of FlowFiles to be transferred in each invocation\",\"defaultValue\":\"1\",\"required\":true,\"sensitive\":false,\"dynamic\":false,\"supportsEl\":false,\"expressionLanguageScope\":\"Not Supported\",\"dependencies\":[]},\"Data Format\":{\"name\":\"Data Format\",\"displayName\":\"Data Format\",\"description\":\"Specifies whether the data should be Text or Binary\",\"defaultValue\":\"Text\",\"allowableValues\":[{\"allowableValue\":{\"displayName\":\"Binary\",\"value\":\"Binary\"},\"canRead\":true},{\"allowableValue\":{\"displayName\":\"Text\",\"value\":\"Text\"},\"canRead\":true}],\"required\":true,\"sensitive\":false,\"dynamic\":false,\"supportsEl\":false,\"expressionLanguageScope\":\"Not Supported\",\"dependencies\":[]},\"Unique FlowFiles\":{\"name\":\"Unique FlowFiles\",\"displayName\":\"Unique FlowFiles\",\"description\":\"If true, each FlowFile that is generated will be unique. If false, a random value will be generated and all FlowFiles will get the same content but this offers much higher throughput\",\"defaultValue\":\"false\",\"allowableValues\":[{\"allowableValue\":{\"displayName\":\"true\",\"value\":\"true\"},\"canRead\":true},{\"allowableValue\":{\"displayName\":\"false\",\"value\":\"false\"},\"canRead\":true}],\"required\":true,\"sensitive\":false,\"dynamic\":false,\"supportsEl\":false,\"expressionLanguageScope\":\"Not Supported\",\"dependencies\":[]},\"generate-ff-custom-text\":{\"name\":\"generate-ff-custom-text\",\"displayName\":\"Custom Text\",\"description\":\"If Data Format is text and if Unique FlowFiles is false, then this custom text will be used as content of the generated FlowFiles and the File Size will be ignored. Finally, if Expression Language is used, evaluation will be performed only once per batch of generated FlowFiles\",\"required\":false,\"sensitive\":false,\"dynamic\":false,\"supportsEl\":true,\"expressionLanguageScope\":\"Variable Registry Only\",\"dependencies\":[]},\"character-set\":{\"name\":\"character-set\",\"displayName\":\"Character Set\",\"description\":\"Specifies the character set to use when writing the bytes of Custom Text to a flow file.\",\"defaultValue\":\"UTF-8\",\"required\":true,\"sensitive\":false,\"dynamic\":false,\"supportsEl\":false,\"expressionLanguageScope\":\"Not Supported\",\"dependencies\":[]},\"mime-type\":{\"name\":\"mime-type\",\"displayName\":\"Mime Type\",\"description\":\"Specifies the value to set for the \\\"mime.type\\\" attribute.\",\"required\":false,\"sensitive\":false,\"dynamic\":false,\"supportsEl\":false,\"expressionLanguageScope\":\"Not Supported\",\"dependencies\":[]},\"req_type\":{\"name\":\"req_type\",\"displayName\":\"req_type\",\"description\":\"\",\"required\":false,\"sensitive\":false,\"dynamic\":true,\"supportsEl\":true,\"expressionLanguageScope\":\"Variable Registry Only\",\"dependencies\":[]}},\"schedulingPeriod\":\"900 min\",\"schedulingStrategy\":\"TIMER_DRIVEN\",\"executionNode\":\"PRIMARY\",\"penaltyDuration\":\"30 sec\",\"yieldDuration\":\"1 sec\",\"bulletinLevel\":\"WARN\",\"runDurationMillis\":0,\"concurrentlySchedulableTaskCount\":1,\"comments\":\"\",\"lossTolerant\":false,\"defaultConcurrentTasks\":{\"TIMER_DRIVEN\":\"1\",\"EVENT_DRIVEN\":\"0\",\"CRON_DRIVEN\":\"1\"},\"defaultSchedulingPeriod\":{\"TIMER_DRIVEN\":\"0 sec\",\"CRON_DRIVEN\":\"* * * * * ?\"},\"retryCount\":10,\"retriedRelationships\":[],\"backoffMechanism\":\"PENALIZE_FLOWFILE\",\"maxBackoffPeriod\":\"10 mins\"},\"validationErrors\":[],\"validationStatus\":\"VALID\",\"extensionMissing\":false},\"inputRequirement\":\"INPUT_FORBIDDEN\",\"status\":{\"groupId\":\"e541fcda-ec63-33a8-a7b9-795848add787\",\"id\":\"effa3ae8-49b5-1782-8275-e030ee5088dc\",\"name\":\"WorldBank Trigger\",\"runStatus\":\"Running\",\"statsLastRefreshed\":\"01:20:47 UTC\",\"aggregateSnapshot\":{\"id\":\"effa3ae8-49b5-1782-8275-e030ee5088dc\",\"groupId\":\"e541fcda-ec63-33a8-a7b9-795848add787\",\"name\":\"WorldBank Trigger\",\"type\":\"GenerateFlowFile\",\"runStatus\":\"Running\",\"executionNode\":\"PRIMARY\",\"bytesRead\":0,\"bytesWritten\":0,\"read\":\"0 bytes\",\"written\":\"0 bytes\",\"flowFilesIn\":0,\"bytesIn\":0,\"input\":\"0 (0 bytes)\",\"flowFilesOut\":2,\"bytesOut\":0,\"output\":\"2 (0 bytes)\",\"taskCount\":2,\"tasksDurationNanos\":2881510,\"tasks\":\"2\",\"tasksDuration\":\"00:00:00.002\",\"activeThreadCount\":0,\"terminatedThreadCount\":0}},\"operatePermissions\":{\"canRead\":true,\"canWrite\":true}}\n"
     ]
    },
    {
     "name": "stderr",
     "output_type": "stream",
     "text": [
      "/Users/vrajagopalan/Work/sandbox/CDE/worldbank/.venv/lib/python3.8/site-packages/urllib3/connectionpool.py:1064: InsecureRequestWarning: Unverified HTTPS request is being made to host 'se-indonesia-cfm1-management0.se-indon.a465-9q4k.cloudera.site'. Adding certificate verification is strongly advised. See: https://urllib3.readthedocs.io/en/1.26.x/advanced-usage.html#ssl-warnings\n",
      "  warnings.warn(\n"
     ]
    },
    {
     "name": "stdout",
     "output_type": "stream",
     "text": [
      "returned : {\"revision\":{\"clientId\":\"4fe17ba6-0192-1000-db91-d3c5a443da11\",\"version\":2},\"id\":\"effa3ae8-49b5-1782-8275-e030ee5088dc\",\"uri\":\"https://se-indonesia-cfm1-management0.se-indon.a465-9q4k.cloudera.site:443/se-indonesia-cfm1/cdp-proxy-api/nifi-app/nifi-api/processors/effa3ae8-49b5-1782-8275-e030ee5088dc\",\"position\":{\"x\":1120.0,\"y\":0.0},\"permissions\":{\"canRead\":true,\"canWrite\":true},\"bulletins\":[],\"component\":{\"id\":\"effa3ae8-49b5-1782-8275-e030ee5088dc\",\"versionedComponentId\":\"e3460adc-c183-3a8e-b33e-496782f0fa0e\",\"parentGroupId\":\"e541fcda-ec63-33a8-a7b9-795848add787\",\"position\":{\"x\":1120.0,\"y\":0.0},\"name\":\"WorldBank Trigger\",\"type\":\"org.apache.nifi.processors.standard.GenerateFlowFile\",\"bundle\":{\"group\":\"org.apache.nifi\",\"artifact\":\"nifi-standard-nar\",\"version\":\"1.25.0.2.2.8.300-34\"},\"state\":\"RUNNING\",\"style\":{},\"relationships\":[{\"name\":\"success\",\"description\":\"\",\"autoTerminate\":false,\"retry\":false}],\"supportsParallelProcessing\":true,\"supportsEventDriven\":false,\"supportsBatching\":true,\"supportsSensitiveDynamicProperties\":false,\"persistsState\":false,\"restricted\":false,\"deprecated\":false,\"executionNodeRestricted\":false,\"multipleVersionsAvailable\":false,\"inputRequirement\":\"INPUT_FORBIDDEN\",\"config\":{\"properties\":{\"File Size\":\"0B\",\"Batch Size\":\"1\",\"Data Format\":\"Text\",\"Unique FlowFiles\":\"false\",\"generate-ff-custom-text\":null,\"character-set\":\"UTF-8\",\"mime-type\":null,\"req_type\":\"worldbank\"},\"descriptors\":{\"File Size\":{\"name\":\"File Size\",\"displayName\":\"File Size\",\"description\":\"The size of the file that will be used\",\"defaultValue\":\"0B\",\"required\":true,\"sensitive\":false,\"dynamic\":false,\"supportsEl\":false,\"expressionLanguageScope\":\"Not Supported\",\"dependencies\":[]},\"Batch Size\":{\"name\":\"Batch Size\",\"displayName\":\"Batch Size\",\"description\":\"The number of FlowFiles to be transferred in each invocation\",\"defaultValue\":\"1\",\"required\":true,\"sensitive\":false,\"dynamic\":false,\"supportsEl\":false,\"expressionLanguageScope\":\"Not Supported\",\"dependencies\":[]},\"Data Format\":{\"name\":\"Data Format\",\"displayName\":\"Data Format\",\"description\":\"Specifies whether the data should be Text or Binary\",\"defaultValue\":\"Text\",\"allowableValues\":[{\"allowableValue\":{\"displayName\":\"Binary\",\"value\":\"Binary\"},\"canRead\":true},{\"allowableValue\":{\"displayName\":\"Text\",\"value\":\"Text\"},\"canRead\":true}],\"required\":true,\"sensitive\":false,\"dynamic\":false,\"supportsEl\":false,\"expressionLanguageScope\":\"Not Supported\",\"dependencies\":[]},\"Unique FlowFiles\":{\"name\":\"Unique FlowFiles\",\"displayName\":\"Unique FlowFiles\",\"description\":\"If true, each FlowFile that is generated will be unique. If false, a random value will be generated and all FlowFiles will get the same content but this offers much higher throughput\",\"defaultValue\":\"false\",\"allowableValues\":[{\"allowableValue\":{\"displayName\":\"true\",\"value\":\"true\"},\"canRead\":true},{\"allowableValue\":{\"displayName\":\"false\",\"value\":\"false\"},\"canRead\":true}],\"required\":true,\"sensitive\":false,\"dynamic\":false,\"supportsEl\":false,\"expressionLanguageScope\":\"Not Supported\",\"dependencies\":[]},\"generate-ff-custom-text\":{\"name\":\"generate-ff-custom-text\",\"displayName\":\"Custom Text\",\"description\":\"If Data Format is text and if Unique FlowFiles is false, then this custom text will be used as content of the generated FlowFiles and the File Size will be ignored. Finally, if Expression Language is used, evaluation will be performed only once per batch of generated FlowFiles\",\"required\":false,\"sensitive\":false,\"dynamic\":false,\"supportsEl\":true,\"expressionLanguageScope\":\"Variable Registry Only\",\"dependencies\":[]},\"character-set\":{\"name\":\"character-set\",\"displayName\":\"Character Set\",\"description\":\"Specifies the character set to use when writing the bytes of Custom Text to a flow file.\",\"defaultValue\":\"UTF-8\",\"required\":true,\"sensitive\":false,\"dynamic\":false,\"supportsEl\":false,\"expressionLanguageScope\":\"Not Supported\",\"dependencies\":[]},\"mime-type\":{\"name\":\"mime-type\",\"displayName\":\"Mime Type\",\"description\":\"Specifies the value to set for the \\\"mime.type\\\" attribute.\",\"required\":false,\"sensitive\":false,\"dynamic\":false,\"supportsEl\":false,\"expressionLanguageScope\":\"Not Supported\",\"dependencies\":[]},\"req_type\":{\"name\":\"req_type\",\"displayName\":\"req_type\",\"description\":\"\",\"required\":false,\"sensitive\":false,\"dynamic\":true,\"supportsEl\":true,\"expressionLanguageScope\":\"Variable Registry Only\",\"dependencies\":[]}},\"schedulingPeriod\":\"900 min\",\"schedulingStrategy\":\"TIMER_DRIVEN\",\"executionNode\":\"PRIMARY\",\"penaltyDuration\":\"30 sec\",\"yieldDuration\":\"1 sec\",\"bulletinLevel\":\"WARN\",\"runDurationMillis\":0,\"concurrentlySchedulableTaskCount\":1,\"comments\":\"\",\"lossTolerant\":false,\"defaultConcurrentTasks\":{\"TIMER_DRIVEN\":\"1\",\"EVENT_DRIVEN\":\"0\",\"CRON_DRIVEN\":\"1\"},\"defaultSchedulingPeriod\":{\"TIMER_DRIVEN\":\"0 sec\",\"CRON_DRIVEN\":\"* * * * * ?\"},\"retryCount\":10,\"retriedRelationships\":[],\"backoffMechanism\":\"PENALIZE_FLOWFILE\",\"maxBackoffPeriod\":\"10 mins\"},\"validationErrors\":[],\"validationStatus\":\"VALID\",\"extensionMissing\":false},\"inputRequirement\":\"INPUT_FORBIDDEN\",\"status\":{\"groupId\":\"e541fcda-ec63-33a8-a7b9-795848add787\",\"id\":\"effa3ae8-49b5-1782-8275-e030ee5088dc\",\"name\":\"WorldBank Trigger\",\"runStatus\":\"Running\",\"statsLastRefreshed\":\"01:20:50 UTC\",\"aggregateSnapshot\":{\"id\":\"effa3ae8-49b5-1782-8275-e030ee5088dc\",\"groupId\":\"e541fcda-ec63-33a8-a7b9-795848add787\",\"name\":\"WorldBank Trigger\",\"type\":\"GenerateFlowFile\",\"runStatus\":\"Running\",\"executionNode\":\"PRIMARY\",\"bytesRead\":0,\"bytesWritten\":0,\"read\":\"0 bytes\",\"written\":\"0 bytes\",\"flowFilesIn\":0,\"bytesIn\":0,\"input\":\"0 (0 bytes)\",\"flowFilesOut\":2,\"bytesOut\":0,\"output\":\"2 (0 bytes)\",\"taskCount\":2,\"tasksDurationNanos\":2881510,\"tasks\":\"2\",\"tasksDuration\":\"00:00:00.002\",\"activeThreadCount\":0,\"terminatedThreadCount\":0}},\"operatePermissions\":{\"canRead\":true,\"canWrite\":true}}\n",
      "{'clientId': '4fe17ba6-0192-1000-db91-d3c5a443da11', 'version': 2}\n",
      "Request successful! Response status code: 200\n",
      "{\"revision\":{\"clientId\":\"4fe17ba6-0192-1000-db91-d3c5a443da11\",\"version\":3,\"lastModifier\":\"vishrajagopalan\"},\"id\":\"effa3ae8-49b5-1782-8275-e030ee5088dc\",\"uri\":\"https://se-indonesia-cfm1-management0.se-indon.a465-9q4k.cloudera.site:443/se-indonesia-cfm1/cdp-proxy-api/nifi-app/nifi-api/processors/effa3ae8-49b5-1782-8275-e030ee5088dc\",\"position\":{\"x\":1120.0,\"y\":0.0},\"permissions\":{\"canRead\":true,\"canWrite\":true},\"bulletins\":[],\"component\":{\"id\":\"effa3ae8-49b5-1782-8275-e030ee5088dc\",\"versionedComponentId\":\"e3460adc-c183-3a8e-b33e-496782f0fa0e\",\"parentGroupId\":\"e541fcda-ec63-33a8-a7b9-795848add787\",\"position\":{\"x\":1120.0,\"y\":0.0},\"name\":\"WorldBank Trigger\",\"type\":\"org.apache.nifi.processors.standard.GenerateFlowFile\",\"bundle\":{\"group\":\"org.apache.nifi\",\"artifact\":\"nifi-standard-nar\",\"version\":\"1.25.0.2.2.8.300-34\"},\"state\":\"STOPPED\",\"style\":{},\"relationships\":[{\"name\":\"success\",\"description\":\"\",\"autoTerminate\":false,\"retry\":false}],\"supportsParallelProcessing\":true,\"supportsEventDriven\":false,\"supportsBatching\":true,\"supportsSensitiveDynamicProperties\":false,\"persistsState\":false,\"restricted\":false,\"deprecated\":false,\"executionNodeRestricted\":false,\"multipleVersionsAvailable\":false,\"inputRequirement\":\"INPUT_FORBIDDEN\",\"config\":{\"properties\":{\"File Size\":\"0B\",\"Batch Size\":\"1\",\"Data Format\":\"Text\",\"Unique FlowFiles\":\"false\",\"generate-ff-custom-text\":null,\"character-set\":\"UTF-8\",\"mime-type\":null,\"req_type\":\"worldbank\"},\"descriptors\":{\"File Size\":{\"name\":\"File Size\",\"displayName\":\"File Size\",\"description\":\"The size of the file that will be used\",\"defaultValue\":\"0B\",\"required\":true,\"sensitive\":false,\"dynamic\":false,\"supportsEl\":false,\"expressionLanguageScope\":\"Not Supported\",\"dependencies\":[]},\"Batch Size\":{\"name\":\"Batch Size\",\"displayName\":\"Batch Size\",\"description\":\"The number of FlowFiles to be transferred in each invocation\",\"defaultValue\":\"1\",\"required\":true,\"sensitive\":false,\"dynamic\":false,\"supportsEl\":false,\"expressionLanguageScope\":\"Not Supported\",\"dependencies\":[]},\"Data Format\":{\"name\":\"Data Format\",\"displayName\":\"Data Format\",\"description\":\"Specifies whether the data should be Text or Binary\",\"defaultValue\":\"Text\",\"allowableValues\":[{\"allowableValue\":{\"displayName\":\"Binary\",\"value\":\"Binary\"},\"canRead\":true},{\"allowableValue\":{\"displayName\":\"Text\",\"value\":\"Text\"},\"canRead\":true}],\"required\":true,\"sensitive\":false,\"dynamic\":false,\"supportsEl\":false,\"expressionLanguageScope\":\"Not Supported\",\"dependencies\":[]},\"Unique FlowFiles\":{\"name\":\"Unique FlowFiles\",\"displayName\":\"Unique FlowFiles\",\"description\":\"If true, each FlowFile that is generated will be unique. If false, a random value will be generated and all FlowFiles will get the same content but this offers much higher throughput\",\"defaultValue\":\"false\",\"allowableValues\":[{\"allowableValue\":{\"displayName\":\"true\",\"value\":\"true\"},\"canRead\":true},{\"allowableValue\":{\"displayName\":\"false\",\"value\":\"false\"},\"canRead\":true}],\"required\":true,\"sensitive\":false,\"dynamic\":false,\"supportsEl\":false,\"expressionLanguageScope\":\"Not Supported\",\"dependencies\":[]},\"generate-ff-custom-text\":{\"name\":\"generate-ff-custom-text\",\"displayName\":\"Custom Text\",\"description\":\"If Data Format is text and if Unique FlowFiles is false, then this custom text will be used as content of the generated FlowFiles and the File Size will be ignored. Finally, if Expression Language is used, evaluation will be performed only once per batch of generated FlowFiles\",\"required\":false,\"sensitive\":false,\"dynamic\":false,\"supportsEl\":true,\"expressionLanguageScope\":\"Variable Registry Only\",\"dependencies\":[]},\"character-set\":{\"name\":\"character-set\",\"displayName\":\"Character Set\",\"description\":\"Specifies the character set to use when writing the bytes of Custom Text to a flow file.\",\"defaultValue\":\"UTF-8\",\"required\":true,\"sensitive\":false,\"dynamic\":false,\"supportsEl\":false,\"expressionLanguageScope\":\"Not Supported\",\"dependencies\":[]},\"mime-type\":{\"name\":\"mime-type\",\"displayName\":\"Mime Type\",\"description\":\"Specifies the value to set for the \\\"mime.type\\\" attribute.\",\"required\":false,\"sensitive\":false,\"dynamic\":false,\"supportsEl\":false,\"expressionLanguageScope\":\"Not Supported\",\"dependencies\":[]},\"req_type\":{\"name\":\"req_type\",\"displayName\":\"req_type\",\"description\":\"\",\"required\":false,\"sensitive\":false,\"dynamic\":true,\"supportsEl\":true,\"expressionLanguageScope\":\"Variable Registry Only\",\"dependencies\":[]}},\"schedulingPeriod\":\"900 min\",\"schedulingStrategy\":\"TIMER_DRIVEN\",\"executionNode\":\"PRIMARY\",\"penaltyDuration\":\"30 sec\",\"yieldDuration\":\"1 sec\",\"bulletinLevel\":\"WARN\",\"runDurationMillis\":0,\"concurrentlySchedulableTaskCount\":1,\"comments\":\"\",\"lossTolerant\":false,\"defaultConcurrentTasks\":{\"TIMER_DRIVEN\":\"1\",\"EVENT_DRIVEN\":\"0\",\"CRON_DRIVEN\":\"1\"},\"defaultSchedulingPeriod\":{\"TIMER_DRIVEN\":\"0 sec\",\"CRON_DRIVEN\":\"* * * * * ?\"},\"retryCount\":10,\"retriedRelationships\":[],\"backoffMechanism\":\"PENALIZE_FLOWFILE\",\"maxBackoffPeriod\":\"10 mins\"},\"validationErrors\":[],\"validationStatus\":\"VALID\",\"extensionMissing\":false},\"inputRequirement\":\"INPUT_FORBIDDEN\",\"status\":{\"groupId\":\"e541fcda-ec63-33a8-a7b9-795848add787\",\"id\":\"effa3ae8-49b5-1782-8275-e030ee5088dc\",\"name\":\"WorldBank Trigger\",\"runStatus\":\"Stopped\",\"statsLastRefreshed\":\"01:20:52 UTC\",\"aggregateSnapshot\":{\"id\":\"effa3ae8-49b5-1782-8275-e030ee5088dc\",\"groupId\":\"e541fcda-ec63-33a8-a7b9-795848add787\",\"name\":\"WorldBank Trigger\",\"type\":\"GenerateFlowFile\",\"runStatus\":\"Stopped\",\"executionNode\":\"PRIMARY\",\"bytesRead\":0,\"bytesWritten\":0,\"read\":\"0 bytes\",\"written\":\"0 bytes\",\"flowFilesIn\":0,\"bytesIn\":0,\"input\":\"0 (0 bytes)\",\"flowFilesOut\":2,\"bytesOut\":0,\"output\":\"2 (0 bytes)\",\"taskCount\":2,\"tasksDurationNanos\":2881510,\"tasks\":\"2\",\"tasksDuration\":\"00:00:00.002\",\"activeThreadCount\":0,\"terminatedThreadCount\":0}},\"operatePermissions\":{\"canRead\":true,\"canWrite\":true}}\n"
     ]
    },
    {
     "name": "stderr",
     "output_type": "stream",
     "text": [
      "/Users/vrajagopalan/Work/sandbox/CDE/worldbank/.venv/lib/python3.8/site-packages/urllib3/connectionpool.py:1064: InsecureRequestWarning: Unverified HTTPS request is being made to host 'se-indonesia-cfm1-management0.se-indon.a465-9q4k.cloudera.site'. Adding certificate verification is strongly advised. See: https://urllib3.readthedocs.io/en/1.26.x/advanced-usage.html#ssl-warnings\n",
      "  warnings.warn(\n"
     ]
    },
    {
     "name": "stdout",
     "output_type": "stream",
     "text": [
      "returned : {\"componentState\":{\"componentId\":\"c74a337b-cee5-15db-ba2f-0fc29c1aa05a\",\"stateDescription\":\"Gives the option to store values not only on the FlowFile but as stateful variables to be referenced in a recursive manner.\",\"clusterState\":{\"scope\":\"CLUSTER\",\"totalEntryCount\":0,\"state\":[]},\"localState\":{\"scope\":\"LOCAL\",\"totalEntryCount\":3,\"state\":[{\"key\":\"last_tms\",\"value\":\"Thu Sep 26 09:03:17 UTC 2024\",\"clusterNodeId\":\"8313ee9d-51af-4abe-bcb6-406d62a3f3e7\",\"clusterNodeAddress\":\"se-indonesia-cfm1-nifi0.se-indon.a465-9q4k.cloudera.site:8443\"},{\"key\":\"last_tms\",\"value\":\"Thu Sep 26 09:05:03 UTC 2024\",\"clusterNodeId\":\"dd1d8c30-5469-4880-b83b-2e3ae6bfd8d3\",\"clusterNodeAddress\":\"se-indonesia-cfm1-nifi2.se-indon.a465-9q4k.cloudera.site:8443\"},{\"key\":\"last_tms\",\"value\":\"Thu Oct 03 01:18:58 UTC 2024\",\"clusterNodeId\":\"4734738b-773a-4419-8473-22b2f69ab243\",\"clusterNodeAddress\":\"se-indonesia-cfm1-nifi1.se-indon.a465-9q4k.cloudera.site:8443\"}]}}}\n",
      "[{'key': 'last_tms', 'value': 'Thu Sep 26 09:03:17 UTC 2024', 'clusterNodeId': '8313ee9d-51af-4abe-bcb6-406d62a3f3e7', 'clusterNodeAddress': 'se-indonesia-cfm1-nifi0.se-indon.a465-9q4k.cloudera.site:8443'}, {'key': 'last_tms', 'value': 'Thu Sep 26 09:05:03 UTC 2024', 'clusterNodeId': 'dd1d8c30-5469-4880-b83b-2e3ae6bfd8d3', 'clusterNodeAddress': 'se-indonesia-cfm1-nifi2.se-indon.a465-9q4k.cloudera.site:8443'}, {'key': 'last_tms', 'value': 'Thu Oct 03 01:18:58 UTC 2024', 'clusterNodeId': '4734738b-773a-4419-8473-22b2f69ab243', 'clusterNodeAddress': 'se-indonesia-cfm1-nifi1.se-indon.a465-9q4k.cloudera.site:8443'}]\n",
      "Thu Oct 03 01:18:58 UTC 2024\n",
      "2024-10-03 01:18:58\n",
      "2024-10-03 01:18:58\n"
     ]
    },
    {
     "name": "stderr",
     "output_type": "stream",
     "text": [
      "/Users/vrajagopalan/Work/sandbox/CDE/worldbank/.venv/lib/python3.8/site-packages/urllib3/connectionpool.py:1064: InsecureRequestWarning: Unverified HTTPS request is being made to host 'se-indonesia-cfm1-management0.se-indon.a465-9q4k.cloudera.site'. Adding certificate verification is strongly advised. See: https://urllib3.readthedocs.io/en/1.26.x/advanced-usage.html#ssl-warnings\n",
      "  warnings.warn(\n"
     ]
    },
    {
     "name": "stdout",
     "output_type": "stream",
     "text": [
      "returned : {\"componentState\":{\"componentId\":\"c74a337b-cee5-15db-ba2f-0fc29c1aa05a\",\"stateDescription\":\"Gives the option to store values not only on the FlowFile but as stateful variables to be referenced in a recursive manner.\",\"clusterState\":{\"scope\":\"CLUSTER\",\"totalEntryCount\":0,\"state\":[]},\"localState\":{\"scope\":\"LOCAL\",\"totalEntryCount\":3,\"state\":[{\"key\":\"last_tms\",\"value\":\"Thu Sep 26 09:03:17 UTC 2024\",\"clusterNodeId\":\"8313ee9d-51af-4abe-bcb6-406d62a3f3e7\",\"clusterNodeAddress\":\"se-indonesia-cfm1-nifi0.se-indon.a465-9q4k.cloudera.site:8443\"},{\"key\":\"last_tms\",\"value\":\"Thu Sep 26 09:05:03 UTC 2024\",\"clusterNodeId\":\"dd1d8c30-5469-4880-b83b-2e3ae6bfd8d3\",\"clusterNodeAddress\":\"se-indonesia-cfm1-nifi2.se-indon.a465-9q4k.cloudera.site:8443\"},{\"key\":\"last_tms\",\"value\":\"Thu Oct 03 01:18:58 UTC 2024\",\"clusterNodeId\":\"4734738b-773a-4419-8473-22b2f69ab243\",\"clusterNodeAddress\":\"se-indonesia-cfm1-nifi1.se-indon.a465-9q4k.cloudera.site:8443\"}]}}}\n",
      "[{'key': 'last_tms', 'value': 'Thu Sep 26 09:03:17 UTC 2024', 'clusterNodeId': '8313ee9d-51af-4abe-bcb6-406d62a3f3e7', 'clusterNodeAddress': 'se-indonesia-cfm1-nifi0.se-indon.a465-9q4k.cloudera.site:8443'}, {'key': 'last_tms', 'value': 'Thu Sep 26 09:05:03 UTC 2024', 'clusterNodeId': 'dd1d8c30-5469-4880-b83b-2e3ae6bfd8d3', 'clusterNodeAddress': 'se-indonesia-cfm1-nifi2.se-indon.a465-9q4k.cloudera.site:8443'}, {'key': 'last_tms', 'value': 'Thu Oct 03 01:18:58 UTC 2024', 'clusterNodeId': '4734738b-773a-4419-8473-22b2f69ab243', 'clusterNodeAddress': 'se-indonesia-cfm1-nifi1.se-indon.a465-9q4k.cloudera.site:8443'}]\n",
      "Thu Oct 03 01:18:58 UTC 2024\n",
      "2024-10-03 01:18:58\n",
      "Waiting...\n"
     ]
    },
    {
     "name": "stderr",
     "output_type": "stream",
     "text": [
      "/Users/vrajagopalan/Work/sandbox/CDE/worldbank/.venv/lib/python3.8/site-packages/urllib3/connectionpool.py:1064: InsecureRequestWarning: Unverified HTTPS request is being made to host 'se-indonesia-cfm1-management0.se-indon.a465-9q4k.cloudera.site'. Adding certificate verification is strongly advised. See: https://urllib3.readthedocs.io/en/1.26.x/advanced-usage.html#ssl-warnings\n",
      "  warnings.warn(\n"
     ]
    },
    {
     "name": "stdout",
     "output_type": "stream",
     "text": [
      "returned : {\"componentState\":{\"componentId\":\"c74a337b-cee5-15db-ba2f-0fc29c1aa05a\",\"stateDescription\":\"Gives the option to store values not only on the FlowFile but as stateful variables to be referenced in a recursive manner.\",\"clusterState\":{\"scope\":\"CLUSTER\",\"totalEntryCount\":0,\"state\":[]},\"localState\":{\"scope\":\"LOCAL\",\"totalEntryCount\":3,\"state\":[{\"key\":\"last_tms\",\"value\":\"Thu Sep 26 09:03:17 UTC 2024\",\"clusterNodeId\":\"8313ee9d-51af-4abe-bcb6-406d62a3f3e7\",\"clusterNodeAddress\":\"se-indonesia-cfm1-nifi0.se-indon.a465-9q4k.cloudera.site:8443\"},{\"key\":\"last_tms\",\"value\":\"Thu Sep 26 09:05:03 UTC 2024\",\"clusterNodeId\":\"dd1d8c30-5469-4880-b83b-2e3ae6bfd8d3\",\"clusterNodeAddress\":\"se-indonesia-cfm1-nifi2.se-indon.a465-9q4k.cloudera.site:8443\"},{\"key\":\"last_tms\",\"value\":\"Thu Oct 03 01:18:58 UTC 2024\",\"clusterNodeId\":\"4734738b-773a-4419-8473-22b2f69ab243\",\"clusterNodeAddress\":\"se-indonesia-cfm1-nifi1.se-indon.a465-9q4k.cloudera.site:8443\"}]}}}\n",
      "[{'key': 'last_tms', 'value': 'Thu Sep 26 09:03:17 UTC 2024', 'clusterNodeId': '8313ee9d-51af-4abe-bcb6-406d62a3f3e7', 'clusterNodeAddress': 'se-indonesia-cfm1-nifi0.se-indon.a465-9q4k.cloudera.site:8443'}, {'key': 'last_tms', 'value': 'Thu Sep 26 09:05:03 UTC 2024', 'clusterNodeId': 'dd1d8c30-5469-4880-b83b-2e3ae6bfd8d3', 'clusterNodeAddress': 'se-indonesia-cfm1-nifi2.se-indon.a465-9q4k.cloudera.site:8443'}, {'key': 'last_tms', 'value': 'Thu Oct 03 01:18:58 UTC 2024', 'clusterNodeId': '4734738b-773a-4419-8473-22b2f69ab243', 'clusterNodeAddress': 'se-indonesia-cfm1-nifi1.se-indon.a465-9q4k.cloudera.site:8443'}]\n",
      "Thu Oct 03 01:18:58 UTC 2024\n",
      "2024-10-03 01:18:58\n",
      "Waiting...\n"
     ]
    },
    {
     "name": "stderr",
     "output_type": "stream",
     "text": [
      "/Users/vrajagopalan/Work/sandbox/CDE/worldbank/.venv/lib/python3.8/site-packages/urllib3/connectionpool.py:1064: InsecureRequestWarning: Unverified HTTPS request is being made to host 'se-indonesia-cfm1-management0.se-indon.a465-9q4k.cloudera.site'. Adding certificate verification is strongly advised. See: https://urllib3.readthedocs.io/en/1.26.x/advanced-usage.html#ssl-warnings\n",
      "  warnings.warn(\n"
     ]
    },
    {
     "name": "stdout",
     "output_type": "stream",
     "text": [
      "returned : {\"componentState\":{\"componentId\":\"c74a337b-cee5-15db-ba2f-0fc29c1aa05a\",\"stateDescription\":\"Gives the option to store values not only on the FlowFile but as stateful variables to be referenced in a recursive manner.\",\"clusterState\":{\"scope\":\"CLUSTER\",\"totalEntryCount\":0,\"state\":[]},\"localState\":{\"scope\":\"LOCAL\",\"totalEntryCount\":3,\"state\":[{\"key\":\"last_tms\",\"value\":\"Thu Sep 26 09:03:17 UTC 2024\",\"clusterNodeId\":\"8313ee9d-51af-4abe-bcb6-406d62a3f3e7\",\"clusterNodeAddress\":\"se-indonesia-cfm1-nifi0.se-indon.a465-9q4k.cloudera.site:8443\"},{\"key\":\"last_tms\",\"value\":\"Thu Sep 26 09:05:03 UTC 2024\",\"clusterNodeId\":\"dd1d8c30-5469-4880-b83b-2e3ae6bfd8d3\",\"clusterNodeAddress\":\"se-indonesia-cfm1-nifi2.se-indon.a465-9q4k.cloudera.site:8443\"},{\"key\":\"last_tms\",\"value\":\"Thu Oct 03 01:21:18 UTC 2024\",\"clusterNodeId\":\"4734738b-773a-4419-8473-22b2f69ab243\",\"clusterNodeAddress\":\"se-indonesia-cfm1-nifi1.se-indon.a465-9q4k.cloudera.site:8443\"}]}}}\n",
      "[{'key': 'last_tms', 'value': 'Thu Sep 26 09:03:17 UTC 2024', 'clusterNodeId': '8313ee9d-51af-4abe-bcb6-406d62a3f3e7', 'clusterNodeAddress': 'se-indonesia-cfm1-nifi0.se-indon.a465-9q4k.cloudera.site:8443'}, {'key': 'last_tms', 'value': 'Thu Sep 26 09:05:03 UTC 2024', 'clusterNodeId': 'dd1d8c30-5469-4880-b83b-2e3ae6bfd8d3', 'clusterNodeAddress': 'se-indonesia-cfm1-nifi2.se-indon.a465-9q4k.cloudera.site:8443'}, {'key': 'last_tms', 'value': 'Thu Oct 03 01:21:18 UTC 2024', 'clusterNodeId': '4734738b-773a-4419-8473-22b2f69ab243', 'clusterNodeAddress': 'se-indonesia-cfm1-nifi1.se-indon.a465-9q4k.cloudera.site:8443'}]\n",
      "Thu Oct 03 01:21:18 UTC 2024\n",
      "2024-10-03 01:21:18\n",
      "Update found: 2024-10-03 01:21:18\n"
     ]
    }
   ],
   "source": [
    "# Get Primary Node Details\n",
    "cluster_url = \"https://se-indonesia-cfm1-management0.se-indon.a465-9q4k.cloudera.site/se-indonesia-cfm1/cdp-proxy-api/nifi-app/nifi-api/controller/cluster\"  # Replace with your actual API endpoint\n",
    "primary_nodeId , _ = get_primary_nodeId_and_address(cluster_url, user_id, password)\n",
    "print(primary_nodeId)\n",
    "\n",
    "# start_processor_id = \"39793bc3-7869-1e73-8b15-8c2b6c6ebf25\" # for testing use \"0d082996-0192-1000-ffff-fffff4de0cfe\"\n",
    "# end_processor_id = \"c74a337b-cee5-15db-ba2f-0fc29c1aa05a\" # for testing use 0d11f872-0192-1000-ffff-ffff8cdff6f2\n",
    "\n",
    "start_processor_id = \"effa3ae8-49b5-1782-8275-e030ee5088dc\" \n",
    "end_processor_id = \"c74a337b-cee5-15db-ba2f-0fc29c1aa05a\" \n",
    "\n",
    "# Let us get the Client Id and Version Id\n",
    "url_nifi_start_processor=f\"https://se-indonesia-cfm1-management0.se-indon.a465-9q4k.cloudera.site/se-indonesia-cfm1/cdp-proxy-api/nifi-app/nifi-api/processors/{start_processor_id}\"\n",
    "clientId, version = get_nifi_processor_clientid_and_version(url_nifi_start_processor, user_id, password)\n",
    "print(f\"ClientId: {clientId}  \\n version: {version}\")\n",
    "\n",
    "# Now Getting the Start Processor to RUNNING MODE\n",
    "run_url = f\"https://se-indonesia-cfm1-management0.se-indon.a465-9q4k.cloudera.site/se-indonesia-cfm1/cdp-proxy-api/nifi-app/nifi-api/processors/{start_processor_id}/run-status\"\n",
    "payload_data = {\"revision\": {\"clientId\": clientId, \"version\": version}, \"state\": \"RUNNING\", \"disconnectedNodeAcknowledged\": True}\n",
    "\n",
    "response = make_put_request(run_url, payload_data, user_id, password)\n",
    "if response:\n",
    "    print(f\"Request successful! Response status code: {response.status_code}\")\n",
    "    print(response.text)  # Access the response content\n",
    "else:\n",
    "    print(\"Request failed.\")\n",
    "#let us wait for seconds \n",
    "time.sleep(2  )\n",
    "\n",
    "# Finally Let us Stop the Processor \n",
    "clientId, version = get_nifi_processor_clientid_and_version(url_nifi_start_processor, user_id, password)\n",
    "payload_data = {\"revision\": {\"clientId\": clientId, \"version\": version}, \"state\": \"STOPPED\", \"disconnectedNodeAcknowledged\": True}\n",
    "\n",
    "response = make_put_request(run_url, payload_data, user_id, password)\n",
    "\n",
    "if response:\n",
    "    print(f\"Request successful! Response status code: {response.status_code}\")\n",
    "    print(response.text)  # Access the response content\n",
    "else:\n",
    "    print(\"Request failed.\")\n",
    "    \n",
    "# Let us get the output of the end processor\n",
    "end_nifiprocessor_url = f\"https://se-indonesia-cfm1-management0.se-indon.a465-9q4k.cloudera.site/se-indonesia-cfm1/cdp-proxy-api/nifi-app/nifi-api/processors/{end_processor_id}/state\"\n",
    "state_property=\"last_tms\"\n",
    "initial_val = fetch_state_value(end_nifiprocessor_url, state_property, primary_nodeId, user_id, password)\n",
    "print(initial_val)\n",
    "\n",
    "# now Loop and wait till an update happens\n",
    "while True:\n",
    "    current_val = fetch_state_value(end_nifiprocessor_url, state_property, primary_nodeId, user_id, password)\n",
    "    if initial_val == current_val :\n",
    "        print(\"Waiting...\")\n",
    "        time.sleep(10)\n",
    "    else:\n",
    "        print(f\"Update found: {current_val}\")\n",
    "        break \n",
    "\n"
   ]
  }
 ],
 "metadata": {
  "kernelspec": {
   "display_name": ".venv",
   "language": "python",
   "name": "python3"
  },
  "language_info": {
   "codemirror_mode": {
    "name": "ipython",
    "version": 3
   },
   "file_extension": ".py",
   "mimetype": "text/x-python",
   "name": "python",
   "nbconvert_exporter": "python",
   "pygments_lexer": "ipython3",
   "version": "3.8.19"
  }
 },
 "nbformat": 4,
 "nbformat_minor": 2
}
